{
 "cells": [
  {
   "cell_type": "code",
   "execution_count": 11,
   "id": "0a056ee4",
   "metadata": {},
   "outputs": [],
   "source": [
    "from Bio import *\n",
    "import Bio.SeqIO\n",
    "import os"
   ]
  },
  {
   "cell_type": "code",
   "execution_count": 28,
   "id": "2caf1683",
   "metadata": {},
   "outputs": [],
   "source": [
    "# File to be analyzed\n",
    "FASTA_FILE = \"\"\n",
    "# Resulting file for aligned sequences\n",
    "RESULT_FASTA_FILE = \"\"\n",
    "# Resulting output of analysis\n",
    "RESULT_CSV_FILE = \"\""
   ]
  },
  {
   "cell_type": "code",
   "execution_count": null,
   "id": "12694984",
   "metadata": {},
   "outputs": [],
   "source": [
    "# Aligning Sequences (or do it online)\n",
    "os.system(\"mafft --6merpair --thread 6 --maxambiguous 0.05 --addfragments \" + FASTA_FILE + \" reference.fasta > \" + RESULT_FASTA_FILE)"
   ]
  },
  {
   "cell_type": "code",
   "execution_count": 25,
   "id": "3000d5df",
   "metadata": {},
   "outputs": [],
   "source": [
    "# Translating sequences using expasy\n",
    "\n",
    "def translate(seq):\n",
    "    translated = os.popen(\"curl -s -d \\\"dna_sequence=\" + seq + \"&output_format=fasta\\\" https://web.expasy.org/cgi-bin/translate/dna2aa.cgi\").read()\n",
    "    translated = translated.split(\">\")[4]\n",
    "    return translated.split(\"\\n\", 1)[1].replace(\"\\n\", \"\")"
   ]
  },
  {
   "cell_type": "code",
   "execution_count": 26,
   "id": "d828d73b",
   "metadata": {},
   "outputs": [],
   "source": [
    "# Selected refernece sequence (ex. DNA Polymerase of MPXV)\n",
    "\n",
    "REF_SEQUENCE_2001 = \"\"\"MDVRCINWFESHGENRFLYLKSRCRNGETVFIRFPHYFYYVVTDEIYQSLSPPPFNARPMGKMRTIDIDETISYNLDIKDRKCSVADMWLIEEPKKRSIQNATMDEFLNISWFYISNGISPDGCYSLDEQYLTKINNGCYHCDDPRNCFAKEIPRFDIPRSYLFLDIECHFDKKFPSVFINPISHTSYCYIDLSGKRLLFTLINEEMLTEQEIQEAVDRGCLRIQSLMEMDYERELVLCSEIVLLRIAKQLLELTFDYVVTFNGHNFDLRYITNRLELLTGEKIIFRSPDKKEAVHLCIYERNQSSHKGVCGMANTTFHVNNNNGTIFFDLYSFIQKSEKLDSYKLDSISKNAFSCMGKVLNRGVREMTFIGDDTTDAKGKADTFAKVLTTGNYVTVDEDIICKVIRKDIWENGFKVVLSCPTLPNDTYKLSFGKDDIDLAQMYKDYNLNIALDMARYCIHDACLCQYLWEYYGVETKTDAGASTYVLPQSMVFEYRASTVIKGPLLKLLLETKTILVRSETKQKFPYEGGKVFAPKQKMFSNNVLIFDYNSLYPNVCIFGNLSPETLVGVVVSTNRLEEEINNQLLLQKYPPPRYITVHCEPRLPNLISEIAIFDRSIEGTIPRLLRTFLAERARYKKMLKQATSSTEKAIYDSMQYTYKIVANSVYGLMGFRNSALYSYASAKSCTSIGRRMILYLESVLNGAELSNGMLRFANTLSNPFYMDDRDINPIVKTSLPIDYRFRFRSVYGDTDSVFTEIDSQDVDKSIEIAKELERLINSRVLFDNFKIEFEAVYKNLIMQSKKKYTTMKYSASSNSKSVPERINKGTSETRRDVSKFHKNMIKTYKTRLSEMLSEGRMNSNQVCIDILRSLETDLRSEFDSRSSPLELFMLSRMHHSNYKSADNPNMYLVTEYNKNNPETIELGERYYFAYICPANVPWTKKLVNIKTYETIIDRSFKLGSNQRIFYEVYFKRLTSEIVNLLDNKVLCISFFQRMFGSRPTFYEA\"\"\""
   ]
  },
  {
   "cell_type": "code",
   "execution_count": 29,
   "id": "2b027a4a",
   "metadata": {},
   "outputs": [],
   "source": [
    "# Opening and initializing result file\n",
    "\n",
    "csv_file = open(RESULT_CSV_FILE,  \"a\")\n",
    "csv_file.write(\"ID,Date,Location,Mutations\\n\")\n",
    "csv_file.close()"
   ]
  },
  {
   "cell_type": "code",
   "execution_count": null,
   "id": "88242849",
   "metadata": {},
   "outputs": [],
   "source": [
    "# coordinates for selected protein\n",
    "BEGIN = 53691\n",
    "END = 56711\n",
    "# Processing aligned sequences\n",
    "total_seqs = 0\n",
    "for seq_record in Bio.SeqIO.parse(RESULT_FASTA_FILE, \"fasta\"):\n",
    "    date  = seq_record.description.split(\"|\")[2]\n",
    "    print(\"Date: \" + date)\n",
    "    dna_polymerase = seq_record.seq[BEGIN-1:END]\n",
    "    print(\"ID: \" + seq_record.id)\n",
    "    print(\"Location: \" + seq_record.description.split(\"|\")[3])\n",
    "    translated_sequence = translate(str(dna_polymerase))[:-1]\n",
    "    mutations = []\n",
    "    count = 0\n",
    "    for i in REF_SEQUENCE_2001:\n",
    "        try:\n",
    "            if i != translated_sequence[count]:\n",
    "                mutations.append(i + str(count + 1) + translated_sequence[count])\n",
    "        except:\n",
    "            pass\n",
    "        count += 1\n",
    "    print(\"Mutations: \" + \";\".join(mutations))\n",
    "    csv_file = open(RESULT_CSV_FILE,  \"a\")\n",
    "    csv_file.write(seq_record.id + \",\" + date + \",\" + seq_record.description.split(\"|\")[3] + \",\\\"\" + \";\".join(mutations) + \"\\\"\\n\")\n",
    "    csv_file.close()\n",
    "    total_seqs += 1\n",
    "print(\"Number of sequences analyzed: \" + str(total_seqs))"
   ]
  }
 ],
 "metadata": {
  "kernelspec": {
   "display_name": "Python 3 (ipykernel)",
   "language": "python",
   "name": "python3"
  },
  "language_info": {
   "codemirror_mode": {
    "name": "ipython",
    "version": 3
   },
   "file_extension": ".py",
   "mimetype": "text/x-python",
   "name": "python",
   "nbconvert_exporter": "python",
   "pygments_lexer": "ipython3",
   "version": "3.8.0"
  }
 },
 "nbformat": 4,
 "nbformat_minor": 5
}
